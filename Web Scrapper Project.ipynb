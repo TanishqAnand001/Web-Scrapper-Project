{
 "cells": [
  {
   "metadata": {},
   "cell_type": "markdown",
   "source": "# Web Scrapper Project\n",
   "id": "fbd2c1a3ffc2ba81"
  },
  {
   "metadata": {},
   "cell_type": "markdown",
   "source": "## Importing Libraries",
   "id": "5e8dd42a2e082e70"
  },
  {
   "cell_type": "code",
   "id": "initial_id",
   "metadata": {
    "collapsed": true,
    "ExecuteTime": {
     "end_time": "2025-10-15T10:01:04.482376Z",
     "start_time": "2025-10-15T10:01:04.478795Z"
    }
   },
   "source": [
    "import requests\n",
    "from bs4 import BeautifulSoup\n",
    "import pandas as pd\n",
    "import json"
   ],
   "outputs": [],
   "execution_count": 66
  },
  {
   "metadata": {},
   "cell_type": "markdown",
   "source": "## Website To Scrape",
   "id": "2309544c9fc3e512"
  },
  {
   "metadata": {
    "ExecuteTime": {
     "end_time": "2025-10-15T10:01:04.499561Z",
     "start_time": "2025-10-15T10:01:04.496792Z"
    }
   },
   "cell_type": "code",
   "source": "topics_url = \"https://github.com/topics\"",
   "id": "b9de500739f4d40e",
   "outputs": [],
   "execution_count": 67
  },
  {
   "metadata": {},
   "cell_type": "markdown",
   "source": "## Calling The Website",
   "id": "e50673fb54e9e965"
  },
  {
   "metadata": {
    "ExecuteTime": {
     "end_time": "2025-10-15T10:01:05.415913Z",
     "start_time": "2025-10-15T10:01:04.510550Z"
    }
   },
   "cell_type": "code",
   "source": "response = requests.get(topics_url)",
   "id": "96033dfcede24525",
   "outputs": [],
   "execution_count": 68
  },
  {
   "metadata": {
    "ExecuteTime": {
     "end_time": "2025-10-15T10:01:05.428378Z",
     "start_time": "2025-10-15T10:01:05.424694Z"
    }
   },
   "cell_type": "code",
   "source": "response.status_code",
   "id": "d2b1be5f2a4c1c13",
   "outputs": [
    {
     "data": {
      "text/plain": [
       "200"
      ]
     },
     "execution_count": 69,
     "metadata": {},
     "output_type": "execute_result"
    }
   ],
   "execution_count": 69
  },
  {
   "metadata": {},
   "cell_type": "markdown",
   "source": "## Parsing The Website",
   "id": "d4d33a176b77b13c"
  },
  {
   "metadata": {
    "ExecuteTime": {
     "end_time": "2025-10-15T10:01:05.469948Z",
     "start_time": "2025-10-15T10:01:05.439167Z"
    }
   },
   "cell_type": "code",
   "source": [
    "soup = BeautifulSoup(response.text, 'html.parser')\n",
    "selection =  'f3 lh-condensed mb-0 mt-1 Link--primary'\n",
    "topic_title_p_tags = soup.find_all('p', class_=selection)\n",
    "topic_description_p_tags = soup.find_all('p', class_='f5 color-fg-muted mb-0 mt-1')\n"
   ],
   "id": "229044066b0d22d8",
   "outputs": [],
   "execution_count": 70
  },
  {
   "metadata": {},
   "cell_type": "markdown",
   "source": [
    "## Helper Functions\n",
    "#### These functions will help us to get the topic page, and from the topic page get the repository information."
   ],
   "id": "9b07b3ae655777e4"
  },
  {
   "metadata": {
    "ExecuteTime": {
     "end_time": "2025-10-15T10:01:05.482847Z",
     "start_time": "2025-10-15T10:01:05.479356Z"
    }
   },
   "cell_type": "code",
   "source": [
    "base_url = \"https://github.com\"\n",
    "\n",
    "def get_topic_page(topic_Url):\n",
    "    response = requests.get(topic_Url)\n",
    "    if response.status_code != 200:\n",
    "        raise Exception('Failed to load page {}'.format(topic_Url))\n",
    "    return BeautifulSoup(response.text, 'html.parser')\n",
    "\n",
    "def get_repo_info(h3_tag, star_tag):\n",
    "    a_tags = h3_tag.find_all('a')\n",
    "    author = a_tags[0].text.strip()\n",
    "    repo_name = a_tags[1].text.strip()\n",
    "    repo_url = base_url + a_tags[1]['href']\n",
    "    stars = star_tag.text.strip()\n",
    "    return author, repo_name, repo_url, stars\n",
    "\n",
    "def get_topic_repos(topic_soup):\n",
    "    repo_tags = topic_soup.find_all('article', class_='border rounded color-shadow-small color-bg-subtle my-4')\n",
    "    star_tags = topic_soup.find_all('span', class_='Counter js-social-count')\n",
    "\n",
    "    topic_repos = []\n",
    "    for i in range(len(repo_tags)):\n",
    "        repo_info = get_repo_info(repo_tags[i].find('h3'), star_tags[i])\n",
    "        topic_repos.append(repo_info)\n",
    "    return topic_repos"
   ],
   "id": "aceacbdfc39c2f20",
   "outputs": [],
   "execution_count": 71
  },
  {
   "metadata": {},
   "cell_type": "markdown",
   "source": [
    "## Scrapping Repositories from each Topic\n",
    "#### Here we will loop through each topic, get the topic URL, and then use our helper functions to get the top repositories and their information."
   ],
   "id": "74a908c16c1fa6f9"
  },
  {
   "metadata": {
    "ExecuteTime": {
     "end_time": "2025-10-15T10:01:30.891156Z",
     "start_time": "2025-10-15T10:01:05.491348Z"
    }
   },
   "cell_type": "code",
   "source": [
    "all_repos_data = []\n",
    "for title, desc in zip(topic_title_p_tags, topic_description_p_tags):\n",
    "    parent_a = title.find_parent('a')\n",
    "    href = parent_a['href'] if parent_a and parent_a.has_attr('href') else None\n",
    "    topic_title = title.text.strip()\n",
    "    topic_desc = desc.text.strip()\n",
    "    print(\"Scraping Topic:\", topic_title)\n",
    "\n",
    "    if href:\n",
    "        topic_url = base_url + href\n",
    "\n",
    "        topic_soup = get_topic_page(topic_url)\n",
    "        topic_repos = get_topic_repos(topic_soup)\n",
    "\n",
    "        for author, repo_name, repo_url, stars in topic_repos:\n",
    "            repo_dict = {\n",
    "                'Topic Title': topic_title,\n",
    "                'Topic Description': topic_desc,\n",
    "                'Author': author,\n",
    "                'Repository Name': repo_name,\n",
    "                'Stars': stars,\n",
    "                'Repository URL': repo_url\n",
    "            }\n",
    "            all_repos_data.append(repo_dict)\n",
    "\n",
    "print(\"\\nScraping complete.\")"
   ],
   "id": "3cbe3a1d471c905c",
   "outputs": [
    {
     "name": "stdout",
     "output_type": "stream",
     "text": [
      "Scraping Topic: Awesome Lists\n",
      "Scraping Topic: Chrome\n",
      "Scraping Topic: Code quality\n",
      "Scraping Topic: Compiler\n",
      "Scraping Topic: CSS\n",
      "Scraping Topic: Database\n",
      "Scraping Topic: Front end\n",
      "Scraping Topic: JavaScript\n",
      "Scraping Topic: Node.js\n",
      "Scraping Topic: npm\n",
      "Scraping Topic: Project management\n",
      "Scraping Topic: Python\n",
      "Scraping Topic: React\n",
      "Scraping Topic: React Native\n",
      "Scraping Topic: Scala\n",
      "Scraping Topic: TypeScript\n",
      "\n",
      "Scraping complete.\n"
     ]
    }
   ],
   "execution_count": 72
  },
  {
   "metadata": {},
   "cell_type": "markdown",
   "source": [
    "## Visual Representation of Data\n",
    "#### Using pandas to create a DataFrame for a clean, table-like view of the scraped data."
   ],
   "id": "cc0628c17acdbf35"
  },
  {
   "metadata": {
    "ExecuteTime": {
     "end_time": "2025-10-15T10:01:30.916378Z",
     "start_time": "2025-10-15T10:01:30.906693Z"
    }
   },
   "cell_type": "code",
   "source": [
    "repos_df = pd.DataFrame(all_repos_data)\n",
    "repos_df"
   ],
   "id": "946c4d1cc9d2e2d0",
   "outputs": [
    {
     "data": {
      "text/plain": [
       "       Topic Title                                  Topic Description  \\\n",
       "0    Awesome Lists  An awesome list is a list of awesome things cu...   \n",
       "1    Awesome Lists  An awesome list is a list of awesome things cu...   \n",
       "2    Awesome Lists  An awesome list is a list of awesome things cu...   \n",
       "3    Awesome Lists  An awesome list is a list of awesome things cu...   \n",
       "4    Awesome Lists  An awesome list is a list of awesome things cu...   \n",
       "..             ...                                                ...   \n",
       "315     TypeScript  TypeScript is a typed superset of JavaScript t...   \n",
       "316     TypeScript  TypeScript is a typed superset of JavaScript t...   \n",
       "317     TypeScript  TypeScript is a typed superset of JavaScript t...   \n",
       "318     TypeScript  TypeScript is a typed superset of JavaScript t...   \n",
       "319     TypeScript  TypeScript is a typed superset of JavaScript t...   \n",
       "\n",
       "                     Author               Repository Name  Stars  \\\n",
       "0              sindresorhus                       awesome   407k   \n",
       "1                     vinta                awesome-python   264k   \n",
       "2        awesome-selfhosted            awesome-selfhosted   253k   \n",
       "3                 trimstray  the-book-of-secret-knowledge   190k   \n",
       "4                   avelino                    awesome-go   155k   \n",
       "..                      ...                           ...    ...   \n",
       "315                prettier                      prettier  51.1k   \n",
       "316         DefinitelyTyped               DefinitelyTyped  50.5k   \n",
       "317                TanStack                         query    47k   \n",
       "318  typescript-cheatsheets                         react  46.7k   \n",
       "319         type-challenges               type-challenges  46.7k   \n",
       "\n",
       "                                        Repository URL  \n",
       "0              https://github.com/sindresorhus/awesome  \n",
       "1              https://github.com/vinta/awesome-python  \n",
       "2    https://github.com/awesome-selfhosted/awesome-...  \n",
       "3    https://github.com/trimstray/the-book-of-secre...  \n",
       "4                https://github.com/avelino/awesome-go  \n",
       "..                                                 ...  \n",
       "315               https://github.com/prettier/prettier  \n",
       "316  https://github.com/DefinitelyTyped/DefinitelyT...  \n",
       "317                  https://github.com/TanStack/query  \n",
       "318    https://github.com/typescript-cheatsheets/react  \n",
       "319  https://github.com/type-challenges/type-challe...  \n",
       "\n",
       "[320 rows x 6 columns]"
      ],
      "text/html": [
       "<div>\n",
       "<style scoped>\n",
       "    .dataframe tbody tr th:only-of-type {\n",
       "        vertical-align: middle;\n",
       "    }\n",
       "\n",
       "    .dataframe tbody tr th {\n",
       "        vertical-align: top;\n",
       "    }\n",
       "\n",
       "    .dataframe thead th {\n",
       "        text-align: right;\n",
       "    }\n",
       "</style>\n",
       "<table border=\"1\" class=\"dataframe\">\n",
       "  <thead>\n",
       "    <tr style=\"text-align: right;\">\n",
       "      <th></th>\n",
       "      <th>Topic Title</th>\n",
       "      <th>Topic Description</th>\n",
       "      <th>Author</th>\n",
       "      <th>Repository Name</th>\n",
       "      <th>Stars</th>\n",
       "      <th>Repository URL</th>\n",
       "    </tr>\n",
       "  </thead>\n",
       "  <tbody>\n",
       "    <tr>\n",
       "      <th>0</th>\n",
       "      <td>Awesome Lists</td>\n",
       "      <td>An awesome list is a list of awesome things cu...</td>\n",
       "      <td>sindresorhus</td>\n",
       "      <td>awesome</td>\n",
       "      <td>407k</td>\n",
       "      <td>https://github.com/sindresorhus/awesome</td>\n",
       "    </tr>\n",
       "    <tr>\n",
       "      <th>1</th>\n",
       "      <td>Awesome Lists</td>\n",
       "      <td>An awesome list is a list of awesome things cu...</td>\n",
       "      <td>vinta</td>\n",
       "      <td>awesome-python</td>\n",
       "      <td>264k</td>\n",
       "      <td>https://github.com/vinta/awesome-python</td>\n",
       "    </tr>\n",
       "    <tr>\n",
       "      <th>2</th>\n",
       "      <td>Awesome Lists</td>\n",
       "      <td>An awesome list is a list of awesome things cu...</td>\n",
       "      <td>awesome-selfhosted</td>\n",
       "      <td>awesome-selfhosted</td>\n",
       "      <td>253k</td>\n",
       "      <td>https://github.com/awesome-selfhosted/awesome-...</td>\n",
       "    </tr>\n",
       "    <tr>\n",
       "      <th>3</th>\n",
       "      <td>Awesome Lists</td>\n",
       "      <td>An awesome list is a list of awesome things cu...</td>\n",
       "      <td>trimstray</td>\n",
       "      <td>the-book-of-secret-knowledge</td>\n",
       "      <td>190k</td>\n",
       "      <td>https://github.com/trimstray/the-book-of-secre...</td>\n",
       "    </tr>\n",
       "    <tr>\n",
       "      <th>4</th>\n",
       "      <td>Awesome Lists</td>\n",
       "      <td>An awesome list is a list of awesome things cu...</td>\n",
       "      <td>avelino</td>\n",
       "      <td>awesome-go</td>\n",
       "      <td>155k</td>\n",
       "      <td>https://github.com/avelino/awesome-go</td>\n",
       "    </tr>\n",
       "    <tr>\n",
       "      <th>...</th>\n",
       "      <td>...</td>\n",
       "      <td>...</td>\n",
       "      <td>...</td>\n",
       "      <td>...</td>\n",
       "      <td>...</td>\n",
       "      <td>...</td>\n",
       "    </tr>\n",
       "    <tr>\n",
       "      <th>315</th>\n",
       "      <td>TypeScript</td>\n",
       "      <td>TypeScript is a typed superset of JavaScript t...</td>\n",
       "      <td>prettier</td>\n",
       "      <td>prettier</td>\n",
       "      <td>51.1k</td>\n",
       "      <td>https://github.com/prettier/prettier</td>\n",
       "    </tr>\n",
       "    <tr>\n",
       "      <th>316</th>\n",
       "      <td>TypeScript</td>\n",
       "      <td>TypeScript is a typed superset of JavaScript t...</td>\n",
       "      <td>DefinitelyTyped</td>\n",
       "      <td>DefinitelyTyped</td>\n",
       "      <td>50.5k</td>\n",
       "      <td>https://github.com/DefinitelyTyped/DefinitelyT...</td>\n",
       "    </tr>\n",
       "    <tr>\n",
       "      <th>317</th>\n",
       "      <td>TypeScript</td>\n",
       "      <td>TypeScript is a typed superset of JavaScript t...</td>\n",
       "      <td>TanStack</td>\n",
       "      <td>query</td>\n",
       "      <td>47k</td>\n",
       "      <td>https://github.com/TanStack/query</td>\n",
       "    </tr>\n",
       "    <tr>\n",
       "      <th>318</th>\n",
       "      <td>TypeScript</td>\n",
       "      <td>TypeScript is a typed superset of JavaScript t...</td>\n",
       "      <td>typescript-cheatsheets</td>\n",
       "      <td>react</td>\n",
       "      <td>46.7k</td>\n",
       "      <td>https://github.com/typescript-cheatsheets/react</td>\n",
       "    </tr>\n",
       "    <tr>\n",
       "      <th>319</th>\n",
       "      <td>TypeScript</td>\n",
       "      <td>TypeScript is a typed superset of JavaScript t...</td>\n",
       "      <td>type-challenges</td>\n",
       "      <td>type-challenges</td>\n",
       "      <td>46.7k</td>\n",
       "      <td>https://github.com/type-challenges/type-challe...</td>\n",
       "    </tr>\n",
       "  </tbody>\n",
       "</table>\n",
       "<p>320 rows × 6 columns</p>\n",
       "</div>"
      ]
     },
     "execution_count": 73,
     "metadata": {},
     "output_type": "execute_result"
    }
   ],
   "execution_count": 73
  },
  {
   "metadata": {},
   "cell_type": "markdown",
   "source": [
    "## Store the data in a JSON file\n",
    "#### The scraped data is written to `github_topics_repos.json` on your local storage."
   ],
   "id": "26da4ef235ff454f"
  },
  {
   "metadata": {
    "ExecuteTime": {
     "end_time": "2025-10-15T10:01:30.971184Z",
     "start_time": "2025-10-15T10:01:30.966184Z"
    }
   },
   "cell_type": "code",
   "source": [
    "with open('github_topics_repos.json', 'w', encoding='utf-8') as f:\n",
    "    json.dump(all_repos_data, f, indent=4)\n",
    "\n",
    "print(\"Data saved to github_topics_repos.json\")"
   ],
   "id": "3914f05a0ab76ef1",
   "outputs": [
    {
     "name": "stdout",
     "output_type": "stream",
     "text": [
      "Data saved to github_topics_repos.json\n"
     ]
    }
   ],
   "execution_count": 74
  },
  {
   "metadata": {},
   "cell_type": "markdown",
   "source": [
    "## Data Analytics and Visualization\n",
    "#### Here we will perform some basic data analysis and create visualizations on our scraped data."
   ],
   "id": "102f8c8c0796415c"
  },
  {
   "metadata": {
    "ExecuteTime": {
     "end_time": "2025-10-15T10:03:59.289839Z",
     "start_time": "2025-10-15T10:03:58.406782Z"
    }
   },
   "cell_type": "code",
   "source": [
    "import matplotlib.pyplot as plt\n",
    "import seaborn as sns\n",
    "\n",
    "sns.set_style(\"whitegrid\")\n",
    "\n",
    "def convert_stars_to_numeric(stars_str):\n",
    "    stars_str = stars_str.strip()\n",
    "    if 'k' in stars_str.lower():\n",
    "        return int(float(stars_str.lower().replace('k', '')) * 1000)\n",
    "    return int(stars_str.replace(',', ''))\n",
    "\n",
    "repos_df['Stars_numeric'] = repos_df['Stars'].apply(convert_stars_to_numeric)\n",
    "\n",
    "top_10_repos = repos_df.sort_values(by='Stars_numeric', ascending=False).head(10)\n",
    "\n",
    "plt.figure(figsize=(12, 8))\n",
    "sns.barplot(x='Stars_numeric', y='Repository Name', data=top_10_repos, palette='viridis', hue='Repository Name', legend=False)\n",
    "plt.title('Top 10 Most Starred Repositories', fontsize=16)\n",
    "plt.xlabel('Number of Stars', fontsize=12)\n",
    "plt.ylabel('Repository Name', fontsize=12)\n",
    "plt.show()\n",
    "\n",
    "top_topics = repos_df.groupby('Topic Title')['Stars_numeric'].sum().sort_values(ascending=False).head(10)\n",
    "\n",
    "plt.figure(figsize=(12, 8))\n",
    "sns.barplot(x=top_topics.values, y=top_topics.index, palette='plasma', hue=top_topics.index, legend=False)\n",
    "plt.title('Top 10 Topics by Total Stars', fontsize=16)\n",
    "plt.xlabel('Total Number of Stars', fontsize=12)\n",
    "plt.ylabel('Topic', fontsize=12)\n",
    "plt.show()\n"
   ],
   "id": "b48f26d9332d8fd0",
   "outputs": [
    {
     "data": {
      "text/plain": [
       "<Figure size 1200x800 with 1 Axes>"
      ],
      "image/png": "[encoded data removed]"
     },
     "metadata": {},
     "output_type": "display_data",
     "jetTransient": {
      "display_id": null
     }
    },
    {
     "data": {
      "text/plain": [
       "<Figure size 1200x800 with 1 Axes>"
      ],
      "image/png": "[encoded data removed]"
     },
     "metadata": {},
     "output_type": "display_data",
     "jetTransient": {
      "display_id": null
     }
    }
   ],
   "execution_count": 76
  }
 ],
 "metadata": {
  "kernelspec": {
   "display_name": "Python 3",
   "language": "python",
   "name": "python3"
  },
  "language_info": {
   "codemirror_mode": {
    "name": "ipython",
    "version": 2
   },
   "file_extension": ".py",
   "mimetype": "text/x-python",
   "name": "python",
   "nbconvert_exporter": "python",
   "pygments_lexer": "ipython2",
   "version": "2.7.6"
  }
 },
 "nbformat": 4,
 "nbformat_minor": 5
}
